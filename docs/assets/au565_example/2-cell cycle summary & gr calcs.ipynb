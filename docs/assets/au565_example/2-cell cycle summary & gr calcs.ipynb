{
 "cells": [
  {
   "cell_type": "code",
   "execution_count": 1,
   "metadata": {},
   "outputs": [],
   "source": [
    "import os\n",
    "import pandas as pd\n",
    "from cell_cycle_gating import run_cell_cycle_gating as rccg\n",
    "from datarail.experimental_design import merge_data_metadata as mdm\n",
    "import gr50\n",
    "from datarail.experimental_design import plot_gr_dose_response as plot\n",
    "from datarail.experimental_design import plot_cell_cycle_fractions as p\n",
    "import numpy as np\n",
    "import seaborn as sns\n",
    "import matplotlib.pyplot as plt\n",
    "from scipy.stats import gaussian_kde\n",
    "plt.rcParams['pdf.fonttype'] = 42"
   ]
  },
  {
   "cell_type": "code",
   "execution_count": 2,
   "metadata": {},
   "outputs": [],
   "source": [
    "# Combine data from all plates into a single dataframe\n",
    "os.mkdir('gr_results')\n",
    "os.chdir(\"results/\")\n",
    "csv_files = [s for s in os.listdir('.') if s.startswith('summary_') & s.endswith('.csv')]\n",
    "dfc = []\n",
    "for obj in csv_files:\n",
    "    df = pd.read_csv(obj)\n",
    "    df['barcode'] = obj[8:-4]\n",
    "    dfc.append(df)\n",
    "dfc = pd.concat(dfc)"
   ]
  },
  {
   "cell_type": "code",
   "execution_count": 3,
   "metadata": {},
   "outputs": [],
   "source": [
    "# Import metadata if it wasn't included during cell cycle gating\n",
    "#dfm = pd.read_csv('../au565_metadata.csv')"
   ]
  },
  {
   "cell_type": "code",
   "execution_count": 4,
   "metadata": {},
   "outputs": [],
   "source": [
    "# Merge well level cell cycle data with well level metadata\n",
    "# Only needs to be run if cell cycle gating was done without metadata\n",
    "# Set indices to barcode + well\n",
    "#dfc.index = [\"%s_%s\" % (b, w) for b,w in zip(dfc.barcode, dfc.well)]\n",
    "#dfm.index = [\"%s_%s\" % (b, w) for b,w in zip(dfm.barcode, dfm.well)]\n",
    "#dfpw = pd.concat([dfc, dfm], axis=1) \n",
    "# Remove wells for which there isn't any data and duplicate columns\n",
    "#dfpw = dfpw.dropna(subset=['cell_line']) \n",
    "#dfpw = dfpw.loc[:, ~dfpw.columns.duplicated()]"
   ]
  },
  {
   "cell_type": "code",
   "execution_count": 5,
   "metadata": {},
   "outputs": [],
   "source": [
    "# Add corpse data if separate\n",
    "dfd = pd.read_csv('../corpse_counts_au565.csv')\n",
    "# Set indices to barcode + well\n",
    "dfc.index = [\"%s_%s\" % (b, w) for b,w in zip(dfc.barcode, dfc.well)]\n",
    "dfd.index = [\"%s_%s\" % (b, w) for b,w in zip(dfd.barcode, dfd['Well Name'])]\n",
    "dfpw = pd.concat([dfc, dfd], axis=1) \n",
    "# Remove wells for which there isn't any data and duplicate columns\n",
    "dfpw = dfpw.dropna(subset=['barcode']) \n",
    "dfpw = dfpw.loc[:, ~dfpw.columns.duplicated()]"
   ]
  },
  {
   "cell_type": "code",
   "execution_count": 6,
   "metadata": {},
   "outputs": [
    {
     "data": {
      "text/plain": [
       "array(['190412_39I_368', '190412_39I_369', '190412_39I_367',\n",
       "       '190412_39I_366', '190412_39I_365'], dtype=object)"
      ]
     },
     "execution_count": 6,
     "metadata": {},
     "output_type": "execute_result"
    }
   ],
   "source": [
    "# Check that all plates are included\n",
    "dfpw.barcode.unique()"
   ]
  },
  {
   "cell_type": "code",
   "execution_count": 7,
   "metadata": {},
   "outputs": [],
   "source": [
    "# Generate counts table for GR calculations\n",
    "df_counts = mdm.generate_GRinput(dfpw)\n",
    "# Save counts\n",
    "df_counts.to_csv('../gr_results/AU565_counts.csv')"
   ]
  },
  {
   "cell_type": "code",
   "execution_count": 8,
   "metadata": {},
   "outputs": [
    {
     "data": {
      "text/html": [
       "<div>\n",
       "<style scoped>\n",
       "    .dataframe tbody tr th:only-of-type {\n",
       "        vertical-align: middle;\n",
       "    }\n",
       "\n",
       "    .dataframe tbody tr th {\n",
       "        vertical-align: top;\n",
       "    }\n",
       "\n",
       "    .dataframe thead th {\n",
       "        text-align: right;\n",
       "    }\n",
       "</style>\n",
       "<table border=\"1\" class=\"dataframe\">\n",
       "  <thead>\n",
       "    <tr style=\"text-align: right;\">\n",
       "      <th></th>\n",
       "      <th></th>\n",
       "      <th>cell_count__time0</th>\n",
       "      <th>cell_count__ctrl</th>\n",
       "    </tr>\n",
       "    <tr>\n",
       "      <th>cell_line</th>\n",
       "      <th>barcode</th>\n",
       "      <th></th>\n",
       "      <th></th>\n",
       "    </tr>\n",
       "  </thead>\n",
       "  <tbody>\n",
       "    <tr>\n",
       "      <th rowspan=\"4\" valign=\"top\">AU565</th>\n",
       "      <th>190412_39I_366</th>\n",
       "      <td>969.952</td>\n",
       "      <td>2289.800000</td>\n",
       "    </tr>\n",
       "    <tr>\n",
       "      <th>190412_39I_367</th>\n",
       "      <td>969.952</td>\n",
       "      <td>2676.000000</td>\n",
       "    </tr>\n",
       "    <tr>\n",
       "      <th>190412_39I_368</th>\n",
       "      <td>969.952</td>\n",
       "      <td>2572.875000</td>\n",
       "    </tr>\n",
       "    <tr>\n",
       "      <th>190412_39I_369</th>\n",
       "      <td>969.952</td>\n",
       "      <td>2576.733333</td>\n",
       "    </tr>\n",
       "  </tbody>\n",
       "</table>\n",
       "</div>"
      ],
      "text/plain": [
       "                          cell_count__time0  cell_count__ctrl\n",
       "cell_line barcode                                            \n",
       "AU565     190412_39I_366            969.952       2289.800000\n",
       "          190412_39I_367            969.952       2676.000000\n",
       "          190412_39I_368            969.952       2572.875000\n",
       "          190412_39I_369            969.952       2576.733333"
      ]
     },
     "execution_count": 8,
     "metadata": {},
     "output_type": "execute_result"
    }
   ],
   "source": [
    "# Quick check to see if cells grew over the duration of the assay\n",
    "df_plates = df_counts.groupby(['cell_line', 'barcode']).mean()\n",
    "df_plates = df_plates[['cell_count__time0', 'cell_count__ctrl']].copy()\n",
    "# Option to save it - use to compute baseline growth rate\n",
    "#df_plates.to_csv('../gr_results/AU565_control_data.csv')\n",
    "df_plates"
   ]
  },
  {
   "cell_type": "code",
   "execution_count": 9,
   "metadata": {},
   "outputs": [],
   "source": [
    "# GR calculations - values and metrics\n",
    "# Compute GR values\n",
    "grv = gr50.compute_gr(df_counts)\n",
    "# Compute GR metrics\n",
    "grm = gr50.gr_metrics(grv)"
   ]
  },
  {
   "cell_type": "code",
   "execution_count": 10,
   "metadata": {},
   "outputs": [
    {
     "name": "stderr",
     "output_type": "stream",
     "text": [
      "198 wells or conditions have 5% fewer cells than time0 control, estimate of dead_count has been increased to compensate.\n",
      "14 wells or conditions have too many cells relative to untreated control, estimate of dead_count has been reduced to compensate.\n"
     ]
    }
   ],
   "source": [
    "# GR static and GR toxic calculations\n",
    "# Time needs to be converted to days for these rates\n",
    "df_counts['timepoint_days'] = df_counts.timepoint/24\n",
    "grvst = gr50.compute_gr_static_toxic(df_counts, time_col = 'timepoint_days')"
   ]
  },
  {
   "cell_type": "code",
   "execution_count": 11,
   "metadata": {},
   "outputs": [],
   "source": [
    "# mean GR toxic and static values\n",
    "grvst['GR_toxic'] = grvst['GR_toxic'].astype(float)\n",
    "grvstmean=grvst.groupby(['cell_line', 'agent', 'concentration', 'timepoint'], as_index=False).mean()\n",
    "grvstmean.to_csv('../gr_results/grvalues_static_toxic_mean.csv')"
   ]
  },
  {
   "cell_type": "code",
   "execution_count": 13,
   "metadata": {},
   "outputs": [],
   "source": [
    "# Save GR values and metrics\n",
    "grv.to_csv('../gr_results/grvalues.csv')\n",
    "grm.to_csv('../gr_results/grmetrics.csv')\n",
    "grvst.to_csv('../gr_results/grvalues_static_toxic.csv')"
   ]
  },
  {
   "cell_type": "code",
   "execution_count": null,
   "metadata": {},
   "outputs": [],
   "source": [
    "# Plot GR dose response data\n",
    "plot.plot_dose_response(grv, gr_value='GRvalue', errbar = 'sd', figname='../gr_results/gr_plots.pdf')\n",
    "plot.plot_fraction_dead(grv, y_col='increase_fraction_dead', errbar = 'sd', figname = '../gr_results/inc_frac_dead.pdf')"
   ]
  },
  {
   "cell_type": "code",
   "execution_count": null,
   "metadata": {},
   "outputs": [],
   "source": [
    "# Calculate and save mean GR values\n",
    "grmean=grv.groupby(['cell_line', 'agent', 'concentration', 'timepoint'], as_index=False).mean()\n",
    "grmean.to_csv('../gr_results/grvalues_mean.csv')"
   ]
  },
  {
   "cell_type": "code",
   "execution_count": null,
   "metadata": {},
   "outputs": [],
   "source": [
    "# Plot summary cell cycle stacked bar graphs\n",
    "p.plot(grv, figname = '../gr_results/cell_cycle_bar_plots.pdf')"
   ]
  },
  {
   "cell_type": "code",
   "execution_count": null,
   "metadata": {},
   "outputs": [],
   "source": []
  }
 ],
 "metadata": {
  "kernelspec": {
   "display_name": "Python 3",
   "language": "python",
   "name": "python3"
  },
  "language_info": {
   "codemirror_mode": {
    "name": "ipython",
    "version": 3
   },
   "file_extension": ".py",
   "mimetype": "text/x-python",
   "name": "python",
   "nbconvert_exporter": "python",
   "pygments_lexer": "ipython3",
   "version": "3.8.5"
  }
 },
 "nbformat": 4,
 "nbformat_minor": 2
}
